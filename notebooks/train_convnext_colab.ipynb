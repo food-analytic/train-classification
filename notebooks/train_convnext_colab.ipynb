{
  "cells": [
    {
      "cell_type": "markdown",
      "metadata": {},
      "source": [
        "[![Open In Colab](https://colab.research.google.com/assets/colab-badge.svg)](https://colab.research.google.com/github/food-analytic/train-classification/blob/main/notebooks/train_convnext_colab.ipynb)"
      ]
    },
    {
      "cell_type": "code",
      "execution_count": null,
      "metadata": {},
      "outputs": [],
      "source": [
        "from google.colab import drive\n",
        "drive.mount('/content/drive')"
      ]
    },
    {
      "cell_type": "code",
      "execution_count": null,
      "metadata": {
        "id": "RUiVlBfLrUZ9"
      },
      "outputs": [],
      "source": [
        "%pip install -qqq timm\n",
        "%pip install -qqq wandb"
      ]
    },
    {
      "cell_type": "code",
      "execution_count": null,
      "metadata": {
        "id": "yKWLPqdjrqZ7"
      },
      "outputs": [],
      "source": [
        "!mkdir '/content/data/'\n",
        "!unzip -qq -O utf-8 '/content/drive/Shareddrives/Food Analytic/Data/chula_food_353.zip' -d '/content/data/'"
      ]
    },
    {
      "cell_type": "code",
      "execution_count": null,
      "metadata": {
        "id": "gJ3TQ5Rz0TY7"
      },
      "outputs": [],
      "source": [
        "import os\n",
        "import random\n",
        "from typing import Dict, List, Tuple\n",
        "import numpy as np\n",
        "import pandas as pd\n",
        "from tqdm.notebook import tqdm\n",
        "import torch\n",
        "import torch.nn as nn\n",
        "from torch.utils.data import DataLoader, WeightedRandomSampler\n",
        "from torchvision.datasets import ImageFolder\n",
        "from torchvision import transforms\n",
        "import timm\n",
        "from timm.optim import create_optimizer_v2\n",
        "import wandb"
      ]
    },
    {
      "cell_type": "code",
      "execution_count": null,
      "metadata": {
        "id": "iFBPUFbaS4tr"
      },
      "outputs": [],
      "source": [
        "wandb.login()"
      ]
    },
    {
      "cell_type": "code",
      "execution_count": null,
      "metadata": {
        "id": "T7OBANybEl9V"
      },
      "outputs": [],
      "source": [
        "config = {\n",
        "    # Data\n",
        "    \"batch_size\": 480,\n",
        "    \"image_size\": (224, 224),\n",
        "    \"seed\": 42,\n",
        "    \"train_path\": \"/content/data/chula_food_353/train\",\n",
        "    \"val_path\": \"/content/data/chula_food_353/val\",\n",
        "    \"test_path\": \"/content/data/chula_food_353/test\",\n",
        "    \"min_sample_per_class\": 60,\n",
        "    \"val_length\": 15,\n",
        "    \"test_length\": 15,\n",
        "    \"num_workers\": 2,\n",
        "\n",
        "    # Model\n",
        "    \"base_model\": 'convnext_base_in22k',\n",
        "    \"dropout\": 0.2,\n",
        "\n",
        "    # Training\n",
        "    \"num_epochs\" : 10,\n",
        "    \"lr\": 1e-3,\n",
        "    \"optimizer\": \"madgrad\",\n",
        "    \"weight_save_path\": '/content/convnext.pt',\n",
        "\n",
        "    # Logging\n",
        "    \"project\": \"classification-convnext\",\n",
        "}\n",
        "\n",
        "random.seed(config[\"seed\"])\n",
        "np.random.seed(config[\"seed\"])\n",
        "torch.manual_seed(config[\"seed\"])\n",
        "\n",
        "device = torch.device(\"cuda\" if torch.cuda.is_available() else \"cpu\")"
      ]
    },
    {
      "cell_type": "code",
      "execution_count": null,
      "metadata": {
        "id": "Kaa6TQ-FtbUq"
      },
      "outputs": [],
      "source": [
        "def get_weighted_random_sampler(dataset):\n",
        "    label_weights = 1 / np.bincount(dataset.targets)\n",
        "    weights = label_weights[dataset.targets]\n",
        "    sampler = WeightedRandomSampler(\n",
        "        weights,\n",
        "        len(weights),\n",
        "        replacement=True,\n",
        "        generator=torch.Generator().manual_seed(config[\"seed\"]),\n",
        "    )\n",
        "    return sampler"
      ]
    },
    {
      "cell_type": "code",
      "execution_count": null,
      "metadata": {
        "id": "3kZXClRPAfRF"
      },
      "outputs": [],
      "source": [
        "train_transform = transforms.Compose(\n",
        "    [\n",
        "        transforms.Resize(size=config[\"image_size\"]),\n",
        "        timm.data.auto_augment.rand_augment_transform(\n",
        "            config_str=\"rand-m9-mstd0.5\",\n",
        "            hparams={},\n",
        "        ),\n",
        "        transforms.ToTensor(),\n",
        "        transforms.Normalize([0.485, 0.456, 0.406], [0.229, 0.224, 0.225]),\n",
        "    ]\n",
        ")\n",
        "\n",
        "test_transform = transforms.Compose(\n",
        "    [\n",
        "        transforms.Resize(size=config[\"image_size\"]),\n",
        "        transforms.ToTensor(),\n",
        "        transforms.Normalize([0.485, 0.456, 0.406], [0.229, 0.224, 0.225]),\n",
        "    ]\n",
        ")\n",
        "\n",
        "train_dataset = ImageFolder(root=config[\"train_path\"], transform=train_transform)\n",
        "val_dataset = ImageFolder(root=config[\"val_path\"], transform=test_transform)\n",
        "test_dataset = ImageFolder(root=config[\"test_path\"], transform=test_transform)\n",
        "\n",
        "# Use WeightedRandomSampler to tackle the class imbalance problem\n",
        "sampler = get_weighted_random_sampler(train_dataset)\n",
        "\n",
        "train_loader = DataLoader(\n",
        "    train_dataset,\n",
        "    batch_size=config[\"batch_size\"],\n",
        "    sampler=sampler,\n",
        "    num_workers=config[\"num_workers\"],\n",
        "    pin_memory=True,\n",
        "    generator=torch.Generator().manual_seed(config[\"seed\"]),\n",
        ")\n",
        "val_loader = DataLoader(\n",
        "    val_dataset,\n",
        "    batch_size=config[\"batch_size\"],\n",
        "    shuffle=False,\n",
        "    num_workers=config[\"num_workers\"],\n",
        "    pin_memory=True,\n",
        ")\n",
        "test_loader = DataLoader(\n",
        "    test_dataset,\n",
        "    batch_size=config[\"batch_size\"],\n",
        "    shuffle=False,\n",
        "    num_workers=config[\"num_workers\"],\n",
        "    pin_memory=True,\n",
        ")"
      ]
    },
    {
      "cell_type": "code",
      "execution_count": null,
      "metadata": {
        "id": "-WiC-g5VzDWt"
      },
      "outputs": [],
      "source": [
        "class ChulaFoodNet(nn.Module):\n",
        "  def __init__(self, num_classes):\n",
        "    super(ChulaFoodNet, self).__init__()\n",
        "    self.pretrained_model = timm.create_model(config['base_model'], pretrained=True, drop_rate=config['dropout'])\n",
        "    self.pretrained_model.head.fc = nn.Linear(1024, num_classes)\n",
        "\n",
        "  def forward(self, input):\n",
        "    x = self.pretrained_model(input)\n",
        "    return x"
      ]
    },
    {
      "cell_type": "code",
      "execution_count": null,
      "metadata": {
        "id": "qiG7BwfWzMPM"
      },
      "outputs": [],
      "source": [
        "model = ChulaFoodNet(len(train_dataset.classes))\n",
        "\n",
        "for parameter in model.pretrained_model.parameters():\n",
        "    parameter.requires_grad_(False)\n",
        "\n",
        "for parameter in model.pretrained_model.head.parameters():\n",
        "    parameter.requires_grad_(True)\n",
        "\n",
        "model.to(device)\n",
        "\n",
        "criterion = nn.CrossEntropyLoss()\n",
        "\n",
        "optimizer = create_optimizer_v2(\n",
        "    model.parameters(),\n",
        "    config['optimizer'],\n",
        "    lr=config['lr'],\n",
        ")\n",
        "\n",
        "scheduler = torch.optim.lr_scheduler.CosineAnnealingWarmRestarts(\n",
        "    optimizer=optimizer,\n",
        "    T_0=10,\n",
        "    T_mult=2,\n",
        ")"
      ]
    },
    {
      "cell_type": "code",
      "execution_count": null,
      "metadata": {
        "id": "XouUcyji0loQ"
      },
      "outputs": [],
      "source": [
        "def train(model, loader, device, epoch, criterion, optimizer, scheduler):\n",
        "    model.train()\n",
        "    num_correct = 0\n",
        "    num_data = 0\n",
        "\n",
        "    pbar = tqdm(enumerate(loader), total=len(loader))\n",
        "    for batch_idx, data in pbar:\n",
        "        inputs, labels = data[0].to(device), data[1].to(device)\n",
        "\n",
        "        optimizer.zero_grad()\n",
        "        outputs = model(inputs)\n",
        "\n",
        "        _, predicted = torch.max(outputs, 1)\n",
        "        num_correct += (predicted == labels).sum().item()\n",
        "        num_data += labels.size(0)\n",
        "\n",
        "        lr = optimizer.param_groups[0]['lr']\n",
        "\n",
        "        loss = criterion(outputs, labels)\n",
        "        loss.backward()\n",
        "        optimizer.step()\n",
        "        scheduler.step(epoch + batch_idx / len(loader))\n",
        "\n",
        "        accumulate_accuracy = num_correct / num_data * 100\n",
        "        pbar.set_description(f'[Training Epoch {epoch}] LR: {lr:.6f}, Loss: {loss:.4f}, Accuracy: {accumulate_accuracy:.4f}')\n",
        "        wandb.log({\"train_acc\": accumulate_accuracy, \"train_loss\": loss, \"lr\": lr})\n",
        "\n",
        "def validate(model, loader, device, epoch, criterion):\n",
        "    model.eval()\n",
        "    num_correct = 0\n",
        "    num_data = 0\n",
        "\n",
        "    pbar = tqdm(enumerate(loader), total=len(loader))\n",
        "    with torch.no_grad():\n",
        "        for batch_idx, data in pbar:\n",
        "            inputs, labels = data[0].to(device), data[1].to(device)\n",
        "            outputs = model(inputs)\n",
        "            _, predicted = torch.max(outputs, 1)\n",
        "\n",
        "            num_correct += (predicted == labels).sum().item()\n",
        "            num_data += labels.size(0)\n",
        "\n",
        "            loss = criterion(outputs, labels)\n",
        "\n",
        "            accumulate_accuracy = num_correct / num_data * 100\n",
        "            pbar.set_description(f'[Testing Epoch {epoch}] Loss: {loss:.4f}, Accuracy: {accumulate_accuracy:.4f}')\n",
        "            wandb.log({\"val_acc\": accumulate_accuracy, \"val_loss\": loss})\n",
        "        \n",
        "    return num_correct, num_data\n",
        "\n",
        "def test_per_class(model, loader, device):\n",
        "    model.eval()\n",
        "    num_classes = len(loader.dataset.dataset.classes)\n",
        "    num_correct_per_class = np.zeros(num_classes)\n",
        "    num_data_per_class = np.zeros(num_classes)\n",
        "\n",
        "    pbar = tqdm(enumerate(loader), total=len(loader))\n",
        "    with torch.no_grad():\n",
        "        for batch_idx, data in pbar:\n",
        "            inputs, labels = data[0].to(device), data[1].to(device)\n",
        "            outputs = model(inputs)\n",
        "            _, predicted = torch.max(outputs, 1)\n",
        "\n",
        "            labels = labels.cpu().detach().numpy()\n",
        "            predicted = predicted.cpu().detach().numpy()\n",
        "            num_correct_per_class += np.bincount(labels[predicted == labels], minlength=num_classes)\n",
        "            num_data_per_class += np.bincount(labels, minlength=num_classes)\n",
        "    \n",
        "    return num_correct_per_class, num_data_per_class"
      ]
    },
    {
      "cell_type": "code",
      "execution_count": null,
      "metadata": {
        "id": "iS743tug7Y3b"
      },
      "outputs": [],
      "source": [
        "wandb.init(project=config['project'], config=config)\n",
        "\n",
        "best_accuracy = 0\n",
        "for epoch in range(1, config['num_epochs'] + 1):\n",
        "    train(model, train_loader, device, epoch, criterion, optimizer, scheduler)\n",
        "    num_correct, num_data = validate(model, val_loader, device, epoch, criterion)\n",
        "    val_accuracy = num_correct / num_data\n",
        "    if val_accuracy > best_accuracy:\n",
        "        torch.save(model.state_dict(), config['weight_save_path'])\n",
        "        best_accuracy = val_accuracy\n",
        "\n",
        "wandb.finish()"
      ]
    },
    {
      "cell_type": "code",
      "execution_count": null,
      "metadata": {
        "id": "3Vy6d981apZZ"
      },
      "outputs": [],
      "source": [
        "model.load_state_dict(torch.load(config['weight_save_path']))\n",
        "test_correct_per_class, test_data_per_class = test_per_class(model, test_loader, device)\n",
        "test_accuracy_per_class = test_correct_per_class / test_data_per_class\n",
        "test_accuracy = test_correct_per_class.sum().item() / test_data_per_class.sum().item()\n",
        "print(f\"Test Accuracy: {test_accuracy:.4f}\")"
      ]
    },
    {
      "cell_type": "code",
      "execution_count": null,
      "metadata": {
        "id": "W0v7pQjS7Fj5"
      },
      "outputs": [],
      "source": [
        "df_eval = pd.DataFrame({\n",
        "    'class_name': test_dataset.classes,\n",
        "    'accuracy': test_accuracy_per_class,\n",
        "    'num_training_data': np.bincount(np.asarray(train_dataset.targets)[train_split.indices], minlength=len(train_dataset.classes)),\n",
        "})\n",
        "\n",
        "df_eval.to_csv('eval.csv', index=False)"
      ]
    }
  ],
  "metadata": {
    "accelerator": "GPU",
    "colab": {
      "collapsed_sections": [],
      "name": "train_convnext_colab.ipynb",
      "provenance": []
    },
    "kernelspec": {
      "display_name": "Python 3",
      "name": "python3"
    },
    "language_info": {
      "name": "python"
    }
  },
  "nbformat": 4,
  "nbformat_minor": 0
}
