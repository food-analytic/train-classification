{
  "cells": [
    {
      "cell_type": "markdown",
      "metadata": {},
      "source": [
        "[![Open In Colab](https://colab.research.google.com/assets/colab-badge.svg)](https://colab.research.google.com/github/food-analytic/train-classification/blob/main/notebooks/train_convnext_colab.ipynb)"
      ]
    },
    {
      "cell_type": "code",
      "execution_count": null,
      "metadata": {
        "id": "RUiVlBfLrUZ9"
      },
      "outputs": [],
      "source": [
        "%pip install -qqq timm\n",
        "%pip install -qqq torchinfo\n",
        "%pip install -qqq wandb"
      ]
    },
    {
      "cell_type": "code",
      "execution_count": null,
      "metadata": {
        "id": "yKWLPqdjrqZ7"
      },
      "outputs": [],
      "source": [
        "!mkdir '/content/data/'\n",
        "!unzip -qq -O utf-8 '/content/drive/Shareddrives/Food Analytic/Data/chula_food_330.zip' -d '/content/data/'"
      ]
    },
    {
      "cell_type": "code",
      "execution_count": null,
      "metadata": {
        "id": "gJ3TQ5Rz0TY7"
      },
      "outputs": [],
      "source": [
        "import os\n",
        "import random\n",
        "from typing import Dict, List, Tuple\n",
        "import numpy as np\n",
        "import pandas as pd\n",
        "from tqdm.notebook import tqdm\n",
        "import torch\n",
        "import torch.nn as nn\n",
        "from torch.utils.data import DataLoader, WeightedRandomSampler\n",
        "from torchvision.datasets import ImageFolder\n",
        "from torchvision import transforms\n",
        "from torchinfo import summary\n",
        "import timm\n",
        "from timm.optim import create_optimizer_v2\n",
        "import wandb"
      ]
    },
    {
      "cell_type": "code",
      "execution_count": null,
      "metadata": {
        "id": "iFBPUFbaS4tr"
      },
      "outputs": [],
      "source": [
        "wandb.login()"
      ]
    },
    {
      "cell_type": "code",
      "execution_count": null,
      "metadata": {
        "id": "T7OBANybEl9V"
      },
      "outputs": [],
      "source": [
        "config = {\n",
        "    # Data\n",
        "    \"batch_size\": 160,\n",
        "    \"image_size\": (224, 224),\n",
        "    \"seed\": 42,\n",
        "    \"train_path\": \"/content/data/chula_food_330/train\",\n",
        "    \"val_path\": \"/content/data/chula_food_330/val\",\n",
        "    \"test_path\": \"/content/data/chula_food_330/test\",\n",
        "    \"num_workers\": 2,\n",
        "\n",
        "    # Model\n",
        "    \"base_model\": 'convnext_base_in22k',\n",
        "    \"dropout\": 0.2,\n",
        "\n",
        "    # Training\n",
        "    \"num_epochs\" : 10,\n",
        "    \"lr\": 5e-5,\n",
        "    \"optimizer\": \"madgrad\",\n",
        "    \"weight_save_path\": '/content/drive/Shareddrives/Food Analytic/models/Classification/convnext_v2_zoku.pt',\n",
        "    \"weight_load_path\": '/content/drive/Shareddrives/Food Analytic/models/Classification/convnext_v2.pt',\n",
        "\n",
        "    # Logging\n",
        "    \"project\": \"classification-convnext\",\n",
        "}\n",
        "\n",
        "random.seed(config[\"seed\"])\n",
        "np.random.seed(config[\"seed\"])\n",
        "torch.manual_seed(config[\"seed\"])\n",
        "\n",
        "device = torch.device(\"cuda\" if torch.cuda.is_available() else \"cpu\")"
      ]
    },
    {
      "cell_type": "code",
      "execution_count": null,
      "metadata": {
        "id": "Kaa6TQ-FtbUq"
      },
      "outputs": [],
      "source": [
        "def get_weighted_random_sampler(dataset):\n",
        "    label_weights = 1 / np.bincount(dataset.targets)\n",
        "    weights = label_weights[dataset.targets]\n",
        "    sampler = WeightedRandomSampler(\n",
        "        weights,\n",
        "        len(weights),\n",
        "        replacement=True,\n",
        "        generator=torch.Generator().manual_seed(config[\"seed\"]),\n",
        "    )\n",
        "    return sampler"
      ]
    },
    {
      "cell_type": "code",
      "execution_count": null,
      "metadata": {
        "id": "3kZXClRPAfRF"
      },
      "outputs": [],
      "source": [
        "train_transform = transforms.Compose(\n",
        "    [\n",
        "        transforms.Resize(size=config[\"image_size\"]),\n",
        "        timm.data.auto_augment.rand_augment_transform(\n",
        "            config_str=\"rand-m9-mstd0.5\",\n",
        "            hparams={},\n",
        "        ),\n",
        "        transforms.ToTensor(),\n",
        "        transforms.Normalize([0.485, 0.456, 0.406], [0.229, 0.224, 0.225]),\n",
        "    ]\n",
        ")\n",
        "\n",
        "test_transform = transforms.Compose(\n",
        "    [\n",
        "        transforms.Resize(size=config[\"image_size\"]),\n",
        "        transforms.ToTensor(),\n",
        "        transforms.Normalize([0.485, 0.456, 0.406], [0.229, 0.224, 0.225]),\n",
        "    ]\n",
        ")\n",
        "\n",
        "train_dataset = ImageFolder(root=config[\"train_path\"], transform=train_transform)\n",
        "val_dataset = ImageFolder(root=config[\"val_path\"], transform=test_transform)\n",
        "test_dataset = ImageFolder(root=config[\"test_path\"], transform=test_transform)\n",
        "\n",
        "# Use WeightedRandomSampler to tackle the class imbalance problem\n",
        "sampler = get_weighted_random_sampler(train_dataset)\n",
        "\n",
        "train_loader = DataLoader(\n",
        "    train_dataset,\n",
        "    batch_size=config[\"batch_size\"],\n",
        "    sampler=sampler,\n",
        "    num_workers=config[\"num_workers\"],\n",
        "    pin_memory=True,\n",
        "    generator=torch.Generator().manual_seed(config[\"seed\"]),\n",
        ")\n",
        "val_loader = DataLoader(\n",
        "    val_dataset,\n",
        "    batch_size=config[\"batch_size\"],\n",
        "    shuffle=False,\n",
        "    num_workers=config[\"num_workers\"],\n",
        "    pin_memory=True,\n",
        ")\n",
        "test_loader = DataLoader(\n",
        "    test_dataset,\n",
        "    batch_size=config[\"batch_size\"],\n",
        "    shuffle=False,\n",
        "    num_workers=config[\"num_workers\"],\n",
        "    pin_memory=True,\n",
        ")"
      ]
    },
    {
      "cell_type": "code",
      "execution_count": null,
      "metadata": {
        "id": "-WiC-g5VzDWt"
      },
      "outputs": [],
      "source": [
        "class ChulaFoodNet(nn.Module):\n",
        "  def __init__(self, num_classes):\n",
        "    super(ChulaFoodNet, self).__init__()\n",
        "    self.pretrained_model = timm.create_model(config['base_model'], pretrained=True, drop_rate=config['dropout'])\n",
        "    self.pretrained_model.head.fc = nn.Linear(1024, num_classes)\n",
        "\n",
        "  def forward(self, input):\n",
        "    x = self.pretrained_model(input)\n",
        "    return x"
      ]
    },
    {
      "cell_type": "code",
      "execution_count": null,
      "metadata": {
        "id": "qiG7BwfWzMPM"
      },
      "outputs": [],
      "source": [
        "model = ChulaFoodNet(len(train_dataset.classes))\n",
        "\n",
        "for parameter in model.pretrained_model.parameters():\n",
        "    parameter.requires_grad_(False)\n",
        "\n",
        "for parameter in model.pretrained_model.stages[2].blocks[14:].parameters():\n",
        "    parameter.requires_grad_(True)\n",
        "\n",
        "for parameter in model.pretrained_model.stages[3].parameters():\n",
        "    parameter.requires_grad_(True)\n",
        "\n",
        "for parameter in model.pretrained_model.head.parameters():\n",
        "    parameter.requires_grad_(True)\n",
        "\n",
        "if config['weight_load_path'] is not None:\n",
        "    model.load_state_dict(torch.load(config['weight_load_path']))\n",
        "\n",
        "model.to(device)\n",
        "\n",
        "criterion = nn.CrossEntropyLoss(label_smoothing=0.1)\n",
        "\n",
        "optimizer = create_optimizer_v2(\n",
        "    model.parameters(),\n",
        "    config['optimizer'],\n",
        "    lr=config['lr'],\n",
        ")\n",
        "\n",
        "scheduler = torch.optim.lr_scheduler.CosineAnnealingWarmRestarts(\n",
        "    optimizer=optimizer,\n",
        "    T_0=10,\n",
        "    T_mult=2,\n",
        ")\n",
        "\n",
        "summary(model, input_size=(config['batch_size'], 3, *config['image_size']))"
      ]
    },
    {
      "cell_type": "code",
      "execution_count": null,
      "metadata": {
        "id": "XouUcyji0loQ"
      },
      "outputs": [],
      "source": [
        "def train(model, loader, device, epoch, criterion, optimizer, scheduler):\n",
        "    model.train()\n",
        "    num_correct_top_1 = 0\n",
        "    num_correct_top_3 = 0\n",
        "    num_data = 0\n",
        "    running_loss = 0.0\n",
        "\n",
        "    pbar = tqdm(enumerate(loader), total=len(loader))\n",
        "    for batch_idx, data in pbar:\n",
        "        inputs, labels = data[0].to(device), data[1].to(device)\n",
        "\n",
        "        lr = optimizer.param_groups[0]['lr']\n",
        "        optimizer.zero_grad()\n",
        "        outputs = model(inputs)\n",
        "        loss = criterion(outputs, labels)\n",
        "        loss.backward()\n",
        "        optimizer.step()\n",
        "        scheduler.step(epoch + batch_idx / len(loader))\n",
        "\n",
        "        _, predicted = torch.max(outputs, 1)\n",
        "        _, predicted_top_3 = torch.topk(outputs, 3, 1)\n",
        "        num_correct_top_1 += (predicted == labels).sum().item()\n",
        "        num_correct_top_3 += (\n",
        "            predicted_top_3 == torch.broadcast_to(torch.unsqueeze(labels, 1), predicted_top_3.size())\n",
        "        ).sum().item()\n",
        "        num_data += labels.size(0)\n",
        "        running_loss += loss * inputs.size(0)\n",
        "        epoch_loss = running_loss / num_data\n",
        "        accuracy_top_1 = num_correct_top_1 / num_data * 100\n",
        "        accuracy_top_3 = num_correct_top_3 / num_data * 100\n",
        "        pbar.set_description(\n",
        "            f'[Training Epoch {epoch}] LR: {lr:.6f}, Loss: {epoch_loss:.4f}, Top 1 Accuracy: {accuracy_top_1:.4f}, Top 3 Accuracy {accuracy_top_3:.4f}'\n",
        "        )\n",
        "    \n",
        "    return epoch_loss, accuracy_top_1, accuracy_top_3, lr\n",
        "\n",
        "def validate(model, loader, device, epoch, criterion):\n",
        "    model.eval()\n",
        "    num_correct_top_1 = 0\n",
        "    num_correct_top_3 = 0\n",
        "    num_data = 0\n",
        "    running_loss = 0\n",
        "\n",
        "    pbar = tqdm(enumerate(loader), total=len(loader))\n",
        "    with torch.no_grad():\n",
        "        for batch_idx, data in pbar:\n",
        "            inputs, labels = data[0].to(device), data[1].to(device)\n",
        "            outputs = model(inputs)\n",
        "            loss = criterion(outputs, labels)\n",
        "\n",
        "            _, predicted_top_1 = torch.max(outputs, 1)\n",
        "            _, predicted_top_3 = torch.topk(outputs, 3, 1)\n",
        "            num_correct_top_1 += (predicted_top_1 == labels).sum().item()\n",
        "            num_correct_top_3 += (\n",
        "                predicted_top_3 == torch.broadcast_to(torch.unsqueeze(labels, 1), predicted_top_3.size())\n",
        "            ).sum().item()\n",
        "            num_data += labels.size(0)\n",
        "            running_loss += loss * inputs.size(0)\n",
        "            epoch_loss = running_loss / num_data\n",
        "            accuracy_top_1 = num_correct_top_1 / num_data * 100\n",
        "            accuracy_top_3 = num_correct_top_3 / num_data * 100\n",
        "            pbar.set_description(\n",
        "                f'[Testing Epoch {epoch}] Loss: {epoch_loss:.4f}, Top 1 Accuracy: {accuracy_top_1:.4f}, Top 3 Accuracy {accuracy_top_3:.4f}'\n",
        "            )\n",
        "        \n",
        "    return epoch_loss, accuracy_top_1, accuracy_top_3\n",
        "\n",
        "def predict(model, loader, device):\n",
        "    model.eval()\n",
        "    predictions = []\n",
        "    targets = []\n",
        "    pbar = tqdm(enumerate(loader), total=len(loader))\n",
        "    with torch.no_grad():\n",
        "        for batch_idx, data in pbar:\n",
        "            inputs, labels = data[0].to(device), data[1].to(device)\n",
        "            outputs = model(inputs)\n",
        "            predictions.append(outputs.cpu().detach())\n",
        "            targets.append(labels.cpu().detach())\n",
        "    return torch.cat(predictions), torch.cat(targets)"
      ]
    },
    {
      "cell_type": "code",
      "execution_count": null,
      "metadata": {
        "id": "iS743tug7Y3b"
      },
      "outputs": [],
      "source": [
        "wandb.init(project=config['project'], config=config)\n",
        "\n",
        "best_accuracy_top_1 = 0\n",
        "best_accuracy_top_3 = 0\n",
        "for epoch in range(1, config['num_epochs'] + 1):\n",
        "    train_loss, train_accuracy_top_1, train_accuracy_top_3, lr = train(model, train_loader, device, epoch, criterion, optimizer, scheduler)\n",
        "    wandb.log({'train_loss': train_loss, 'train_accuracy_top_1': train_accuracy_top_1, 'train_accuracy_top_3': train_accuracy_top_3}, commit=False)\n",
        "    val_loss, val_accuracy_top_1, val_accuracy_top_3 = validate(model, val_loader, device, epoch, criterion)\n",
        "    wandb.log({'val_loss': val_loss, 'val_accuracy_top_1': val_accuracy_top_1, 'val_accuracy_top_3': val_accuracy_top_3}, commit=True)\n",
        "    if val_accuracy_top_1 > best_accuracy_top_1 or val_accuracy_top_3 > best_accuracy_top_3:\n",
        "        torch.save(model.state_dict(), config['weight_save_path'])\n",
        "        best_accuracy_top_1 = val_accuracy_top_1 if val_accuracy_top_1 > best_accuracy_top_1 else best_accuracy_top_1\n",
        "        best_accuracy_top_3 = val_accuracy_top_3 if val_accuracy_top_3 > best_accuracy_top_3 else best_accuracy_top_3\n",
        "\n",
        "wandb.finish()"
      ]
    },
    {
      "cell_type": "code",
      "execution_count": null,
      "metadata": {
        "id": "3Vy6d981apZZ"
      },
      "outputs": [],
      "source": [
        "model.load_state_dict(torch.load(config['weight_save_path']))\n",
        "test_predictions, test_targets = predict(model, test_loader, device)\n",
        "\n",
        "_, predicted_top_1 = torch.max(test_predictions, 1)\n",
        "_, predicted_top_3 = torch.topk(test_predictions, 3, 1)\n",
        "\n",
        "num_classes = len(test_loader.dataset.classes)\n",
        "correct_top_1_per_class = np.bincount(test_targets[predicted_top_1 == test_targets], minlength=num_classes)\n",
        "correct_top_3_per_class = np.bincount(\n",
        "    test_targets[torch.any(predicted_top_3 == torch.broadcast_to(torch.unsqueeze(test_targets, 1), predicted_top_3.size()), dim=1)]\n",
        ", minlength=num_classes)\n",
        "data_per_class = np.bincount(test_targets, minlength=num_classes)\n",
        "\n",
        "accuracy_top_1_per_class = correct_top_1_per_class / data_per_class\n",
        "accuracy_top_3_per_class = correct_top_3_per_class / data_per_class\n",
        "\n",
        "accuracy_top_1 = correct_top_1_per_class.sum() / data_per_class.sum()\n",
        "accuracy_top_3 = correct_top_3_per_class.sum() / data_per_class.sum()\n",
        "print(f\"Test Top 1 Accuracy: {accuracy_top_1:.4f}\")\n",
        "print(f\"Test Top 3 Accuracy: {accuracy_top_3:.4f}\")"
      ]
    },
    {
      "cell_type": "code",
      "execution_count": null,
      "metadata": {
        "id": "W0v7pQjS7Fj5"
      },
      "outputs": [],
      "source": [
        "df_eval = pd.DataFrame({\n",
        "    'class_name': test_dataset.classes,\n",
        "    'num_training_data': np.bincount(train_dataset.targets, minlength=len(train_dataset.classes)),\n",
        "    'accuracy_top_1': accuracy_top_1_per_class,\n",
        "    'accuracy_top_3': accuracy_top_3_per_class,\n",
        "})\n",
        "\n",
        "df_eval.to_csv('eval.csv', index=False)"
      ]
    }
  ],
  "metadata": {
    "accelerator": "GPU",
    "colab": {
      "collapsed_sections": [],
      "name": "train_convnext_colab.ipynb",
      "provenance": []
    },
    "kernelspec": {
      "display_name": "Python 3",
      "name": "python3"
    },
    "language_info": {
      "name": "python"
    }
  },
  "nbformat": 4,
  "nbformat_minor": 0
}
